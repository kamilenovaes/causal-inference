{
  "nbformat": 4,
  "nbformat_minor": 0,
  "metadata": {
    "colab": {
      "provenance": [],
      "authorship_tag": "ABX9TyMO/UpXu5bJYrtYjYEo5Jds",
      "include_colab_link": true
    },
    "kernelspec": {
      "name": "python3",
      "display_name": "Python 3"
    },
    "language_info": {
      "name": "python"
    }
  },
  "cells": [
    {
      "cell_type": "markdown",
      "metadata": {
        "id": "view-in-github",
        "colab_type": "text"
      },
      "source": [
        "<a href=\"https://colab.research.google.com/github/kamilenovaes/causal-inference/blob/main/InferenciaCausal.ipynb\" target=\"_parent\"><img src=\"https://colab.research.google.com/assets/colab-badge.svg\" alt=\"Open In Colab\"/></a>"
      ]
    },
    {
      "cell_type": "markdown",
      "source": [
        "## Análise de Impacto Causal de Campanha de Marketing"
      ],
      "metadata": {
        "id": "Qj6UlDSH3_m1"
      }
    },
    {
      "cell_type": "markdown",
      "source": [
        "Objetivo: Mensurar o efeito causal da adesão a uma campanha de marketing nos gastos e comportamento de compra dos clientes, com intuito de praticar o uso da biblioteca DoWhy."
      ],
      "metadata": {
        "id": "Zbsowu6a4O5O"
      }
    },
    {
      "cell_type": "markdown",
      "source": [
        "## Importando Bibliotecas"
      ],
      "metadata": {
        "id": "bbY9971p48fB"
      }
    },
    {
      "cell_type": "code",
      "source": [
        "!pip install pandas numpy matplotlib seaborn dowhy graphviz kaggle"
      ],
      "metadata": {
        "colab": {
          "base_uri": "https://localhost:8080/"
        },
        "collapsed": true,
        "id": "yx3fp_U15Fd9",
        "outputId": "7557c2fa-9075-48b1-a635-a07817d8af23"
      },
      "execution_count": 52,
      "outputs": [
        {
          "output_type": "stream",
          "name": "stdout",
          "text": [
            "Requirement already satisfied: pandas in /usr/local/lib/python3.12/dist-packages (2.2.2)\n",
            "Requirement already satisfied: numpy in /usr/local/lib/python3.12/dist-packages (2.0.2)\n",
            "Requirement already satisfied: matplotlib in /usr/local/lib/python3.12/dist-packages (3.10.0)\n",
            "Requirement already satisfied: seaborn in /usr/local/lib/python3.12/dist-packages (0.13.2)\n",
            "Requirement already satisfied: dowhy in /usr/local/lib/python3.12/dist-packages (0.13)\n",
            "Requirement already satisfied: graphviz in /usr/local/lib/python3.12/dist-packages (0.21)\n",
            "Requirement already satisfied: kaggle in /usr/local/lib/python3.12/dist-packages (1.7.4.5)\n",
            "Requirement already satisfied: python-dateutil>=2.8.2 in /usr/local/lib/python3.12/dist-packages (from pandas) (2.9.0.post0)\n",
            "Requirement already satisfied: pytz>=2020.1 in /usr/local/lib/python3.12/dist-packages (from pandas) (2025.2)\n",
            "Requirement already satisfied: tzdata>=2022.7 in /usr/local/lib/python3.12/dist-packages (from pandas) (2025.2)\n",
            "Requirement already satisfied: contourpy>=1.0.1 in /usr/local/lib/python3.12/dist-packages (from matplotlib) (1.3.3)\n",
            "Requirement already satisfied: cycler>=0.10 in /usr/local/lib/python3.12/dist-packages (from matplotlib) (0.12.1)\n",
            "Requirement already satisfied: fonttools>=4.22.0 in /usr/local/lib/python3.12/dist-packages (from matplotlib) (4.60.1)\n",
            "Requirement already satisfied: kiwisolver>=1.3.1 in /usr/local/lib/python3.12/dist-packages (from matplotlib) (1.4.9)\n",
            "Requirement already satisfied: packaging>=20.0 in /usr/local/lib/python3.12/dist-packages (from matplotlib) (25.0)\n",
            "Requirement already satisfied: pillow>=8 in /usr/local/lib/python3.12/dist-packages (from matplotlib) (11.3.0)\n",
            "Requirement already satisfied: pyparsing>=2.3.1 in /usr/local/lib/python3.12/dist-packages (from matplotlib) (3.2.5)\n",
            "Requirement already satisfied: causal-learn>=0.1.3.0 in /usr/local/lib/python3.12/dist-packages (from dowhy) (0.1.4.3)\n",
            "Requirement already satisfied: cvxpy<1.5 in /usr/local/lib/python3.12/dist-packages (from dowhy) (1.4.4)\n",
            "Requirement already satisfied: cython>=3.0 in /usr/local/lib/python3.12/dist-packages (from dowhy) (3.0.12)\n",
            "Requirement already satisfied: joblib>=1.1.0 in /usr/local/lib/python3.12/dist-packages (from dowhy) (1.5.2)\n",
            "Requirement already satisfied: networkx>=3.3 in /usr/local/lib/python3.12/dist-packages (from dowhy) (3.5)\n",
            "Requirement already satisfied: numba>=0.59 in /usr/local/lib/python3.12/dist-packages (from dowhy) (0.60.0)\n",
            "Requirement already satisfied: scikit-learn>1.0 in /usr/local/lib/python3.12/dist-packages (from dowhy) (1.6.1)\n",
            "Requirement already satisfied: scipy<=1.15.3 in /usr/local/lib/python3.12/dist-packages (from dowhy) (1.15.3)\n",
            "Requirement already satisfied: statsmodels>=0.14 in /usr/local/lib/python3.12/dist-packages (from dowhy) (0.14.5)\n",
            "Requirement already satisfied: sympy>=1.10.1 in /usr/local/lib/python3.12/dist-packages (from dowhy) (1.13.3)\n",
            "Requirement already satisfied: tqdm>=4.64.0 in /usr/local/lib/python3.12/dist-packages (from dowhy) (4.67.1)\n",
            "Requirement already satisfied: bleach in /usr/local/lib/python3.12/dist-packages (from kaggle) (6.2.0)\n",
            "Requirement already satisfied: certifi>=14.05.14 in /usr/local/lib/python3.12/dist-packages (from kaggle) (2025.8.3)\n",
            "Requirement already satisfied: charset-normalizer in /usr/local/lib/python3.12/dist-packages (from kaggle) (3.4.3)\n",
            "Requirement already satisfied: idna in /usr/local/lib/python3.12/dist-packages (from kaggle) (3.10)\n",
            "Requirement already satisfied: protobuf in /usr/local/lib/python3.12/dist-packages (from kaggle) (5.29.5)\n",
            "Requirement already satisfied: python-slugify in /usr/local/lib/python3.12/dist-packages (from kaggle) (8.0.4)\n",
            "Requirement already satisfied: requests in /usr/local/lib/python3.12/dist-packages (from kaggle) (2.32.4)\n",
            "Requirement already satisfied: setuptools>=21.0.0 in /usr/local/lib/python3.12/dist-packages (from kaggle) (75.2.0)\n",
            "Requirement already satisfied: six>=1.10 in /usr/local/lib/python3.12/dist-packages (from kaggle) (1.17.0)\n",
            "Requirement already satisfied: text-unidecode in /usr/local/lib/python3.12/dist-packages (from kaggle) (1.3)\n",
            "Requirement already satisfied: urllib3>=1.15.1 in /usr/local/lib/python3.12/dist-packages (from kaggle) (2.5.0)\n",
            "Requirement already satisfied: webencodings in /usr/local/lib/python3.12/dist-packages (from kaggle) (0.5.1)\n",
            "Requirement already satisfied: pydot in /usr/local/lib/python3.12/dist-packages (from causal-learn>=0.1.3.0->dowhy) (3.0.4)\n",
            "Requirement already satisfied: momentchi2 in /usr/local/lib/python3.12/dist-packages (from causal-learn>=0.1.3.0->dowhy) (0.1.8)\n",
            "Requirement already satisfied: osqp>=0.6.2 in /usr/local/lib/python3.12/dist-packages (from cvxpy<1.5->dowhy) (1.0.4)\n",
            "Requirement already satisfied: ecos>=2 in /usr/local/lib/python3.12/dist-packages (from cvxpy<1.5->dowhy) (2.0.14)\n",
            "Requirement already satisfied: clarabel>=0.5.0 in /usr/local/lib/python3.12/dist-packages (from cvxpy<1.5->dowhy) (0.11.1)\n",
            "Requirement already satisfied: scs>=3.0 in /usr/local/lib/python3.12/dist-packages (from cvxpy<1.5->dowhy) (3.2.8)\n",
            "Requirement already satisfied: pybind11 in /usr/local/lib/python3.12/dist-packages (from cvxpy<1.5->dowhy) (3.0.1)\n",
            "Requirement already satisfied: llvmlite<0.44,>=0.43.0dev0 in /usr/local/lib/python3.12/dist-packages (from numba>=0.59->dowhy) (0.43.0)\n",
            "Requirement already satisfied: threadpoolctl>=3.1.0 in /usr/local/lib/python3.12/dist-packages (from scikit-learn>1.0->dowhy) (3.6.0)\n",
            "Requirement already satisfied: patsy>=0.5.6 in /usr/local/lib/python3.12/dist-packages (from statsmodels>=0.14->dowhy) (1.0.1)\n",
            "Requirement already satisfied: mpmath<1.4,>=1.1.0 in /usr/local/lib/python3.12/dist-packages (from sympy>=1.10.1->dowhy) (1.3.0)\n",
            "Requirement already satisfied: cffi in /usr/local/lib/python3.12/dist-packages (from clarabel>=0.5.0->cvxpy<1.5->dowhy) (2.0.0)\n",
            "Requirement already satisfied: jinja2 in /usr/local/lib/python3.12/dist-packages (from osqp>=0.6.2->cvxpy<1.5->dowhy) (3.1.6)\n",
            "Requirement already satisfied: pycparser in /usr/local/lib/python3.12/dist-packages (from cffi->clarabel>=0.5.0->cvxpy<1.5->dowhy) (2.23)\n",
            "Requirement already satisfied: MarkupSafe>=2.0 in /usr/local/lib/python3.12/dist-packages (from jinja2->osqp>=0.6.2->cvxpy<1.5->dowhy) (3.0.3)\n"
          ]
        }
      ]
    },
    {
      "cell_type": "code",
      "source": [
        "import pandas as pd\n",
        "import numpy as np\n",
        "import matplotlib.pyplot as plt\n",
        "import seaborn as sns\n",
        "from dowhy import CausalModel\n",
        "import os"
      ],
      "metadata": {
        "id": "pUs3lws75LiJ"
      },
      "execution_count": 53,
      "outputs": []
    },
    {
      "cell_type": "markdown",
      "source": [
        "## Dataset"
      ],
      "metadata": {
        "id": "5EpClad-5bli"
      }
    },
    {
      "cell_type": "markdown",
      "source": [
        "Utilizando o Kaggle para baixar o dataset desejado."
      ],
      "metadata": {
        "id": "LyFaCeEN5ler"
      }
    },
    {
      "cell_type": "code",
      "source": [
        "!kaggle datasets download -d imakash3011/customer-personality-analysis\n",
        "!unzip -o customer-personality-analysis.zip # -o para sobrescrever"
      ],
      "metadata": {
        "colab": {
          "base_uri": "https://localhost:8080/"
        },
        "collapsed": true,
        "id": "RwHt9Iex9IgS",
        "outputId": "6dbe4d3c-7cc3-4f6c-841c-a5b45e1c008b"
      },
      "execution_count": 54,
      "outputs": [
        {
          "output_type": "stream",
          "name": "stdout",
          "text": [
            "Dataset URL: https://www.kaggle.com/datasets/imakash3011/customer-personality-analysis\n",
            "License(s): CC0-1.0\n",
            "customer-personality-analysis.zip: Skipping, found more recently modified local copy (use --force to force download)\n",
            "Archive:  customer-personality-analysis.zip\n",
            "  inflating: marketing_campaign.csv  \n"
          ]
        }
      ]
    },
    {
      "cell_type": "markdown",
      "source": [
        "## ETL"
      ],
      "metadata": {
        "id": "oxjLI__S6oDb"
      }
    },
    {
      "cell_type": "code",
      "source": [
        "# Carregando os dados\n",
        "df = pd.read_csv('marketing_campaign.csv', sep='\\t')"
      ],
      "metadata": {
        "id": "6hic0_QT9SHj"
      },
      "execution_count": 55,
      "outputs": []
    },
    {
      "cell_type": "code",
      "source": [
        "# Limpeza de Dados\n",
        "# Preenchendo valores nulos em 'Income' com a mediana\n",
        "df['Income'] = df['Income'].fillna(df['Income'].median())"
      ],
      "metadata": {
        "collapsed": true,
        "id": "1ModDhSU9ihv"
      },
      "execution_count": 56,
      "outputs": []
    },
    {
      "cell_type": "code",
      "source": [
        "# Engenharia de Features\n",
        "# Criando features mais informativas a partir das existentes\n",
        "df['Age'] = 2025 - df['Year_Birth'] # Usando 2025 como ano de referência\n",
        "df['Dt_Customer'] = pd.to_datetime(df['Dt_Customer'], dayfirst=True)\n",
        "df['Customer_Tenure'] = (df['Dt_Customer'].max() - df['Dt_Customer']).dt.days\n",
        "df['Total_Children'] = df['Kidhome'] + df['Teenhome']\n",
        "df['Total_Mnt'] = df['MntWines'] + df['MntFruits'] + df['MntMeatProducts'] + df['MntFishProducts'] + df['MntSweetProducts'] + df['MntGoldProds']\n",
        "df['NumTotalPurchases'] = df['NumWebPurchases'] + df['NumCatalogPurchases'] + df['NumStorePurchases']\n",
        "\n",
        "# Simplificando colunas categóricas\n",
        "df['Education'] = df['Education'].replace({'Graduation': 'Graduate', 'PhD': 'Postgraduate', 'Master': 'Postgraduate', '2n Cycle': 'Graduate', 'Basic': 'Undergraduate'})\n",
        "\n",
        "# Seleção e Preparação Final do DataFrame para a Análise Causal\n",
        "colunas_para_remover = ['ID', 'Year_Birth', 'Dt_Customer', 'Z_CostContact', 'Z_Revenue', 'Kidhome', 'Teenhome',\n",
        "                        'MntWines', 'MntFruits', 'MntMeatProducts', 'MntFishProducts', 'MntSweetProducts', 'MntGoldProds',\n",
        "                        'NumWebPurchases', 'NumCatalogPurchases', 'NumStorePurchases'] # Colunas originais que foram agrupadas\n",
        "df_causal_base = df.drop(columns=colunas_para_remover)\n",
        "df_causal_base = df_causal_base[df_causal_base['Income'] < 200000] # Removendo outliers de renda\n",
        "df_causal_base = pd.get_dummies(df_causal_base, columns=['Education', 'Marital_Status'], drop_first=True)\n"
      ],
      "metadata": {
        "id": "8j2n083y95_T"
      },
      "execution_count": 57,
      "outputs": []
    },
    {
      "cell_type": "code",
      "source": [
        "from sklearn.preprocessing import StandardScaler\n",
        "\n",
        "# Definindo a lista de confusores\n",
        "confounders = [\n",
        "    'Income', 'Recency', 'NumDealsPurchases', 'Total_Children',\n",
        "    'Customer_Tenure', 'Age', 'NumTotalPurchases'\n",
        "]\n",
        "confounders.extend([col for col in df_causal_base.columns if 'Education_' in col or 'Marital_Status_' in col])\n",
        "\n",
        "# Cópia do DataFrame para não alterar o original\n",
        "df_scaled = df_causal_base.copy()\n",
        "\n",
        "# Seleciona apenas as colunas numéricas que são confusoras para escalonar\n",
        "numeric_confounders = df_scaled[confounders].select_dtypes(include=np.number).columns\n",
        "scaler = StandardScaler()\n",
        "\n",
        "# Aplica o escalonamento\n",
        "df_scaled[numeric_confounders] = scaler.fit_transform(df_scaled[numeric_confounders])\n",
        "\n",
        "print(\"Dados escalonados com sucesso!\")"
      ],
      "metadata": {
        "colab": {
          "base_uri": "https://localhost:8080/"
        },
        "id": "FgtK7qHhFXzC",
        "outputId": "857f3ca8-e1e5-4cf2-bf7c-b7d382467602"
      },
      "execution_count": 58,
      "outputs": [
        {
          "output_type": "stream",
          "name": "stdout",
          "text": [
            "Dados escalonados com sucesso!\n"
          ]
        }
      ]
    },
    {
      "cell_type": "markdown",
      "source": [
        "## Análise Causal Principal"
      ],
      "metadata": {
        "id": "gENBolXL-WBn"
      }
    },
    {
      "cell_type": "markdown",
      "source": [
        "Qual o impacto causal da campanha nos GASTOS TOTAIS dos clientes?"
      ],
      "metadata": {
        "id": "SSQt6ou9-fQT"
      }
    },
    {
      "cell_type": "code",
      "source": [
        "# Preparando o DataFrame para esta análise\n",
        "df_main = df_scaled.copy()\n",
        "df_main.rename(columns={'Response': 'treatment', 'Total_Mnt': 'outcome'}, inplace=True)\n",
        "\n",
        "# Rodando o modelo causal\n",
        "modelo_main = CausalModel(data=df_main, treatment='treatment', outcome='outcome', common_causes=confounders)\n",
        "identified_estimand_main = modelo_main.identify_effect(proceed_when_unidentifiable=True)\n",
        "estimativa_main = modelo_main.estimate_effect(identified_estimand_main, method_name=\"backdoor.propensity_score_matching\")\n",
        "print(\"\\nEstimativa do Efeito Causal (Gastos Totais):\")\n",
        "print(estimativa_main)\n",
        "\n",
        "# Teste de Refutação\n",
        "refutacao_main = modelo_main.refute_estimate(identified_estimand_main, estimativa_main, method_name=\"placebo_treatment_refuter\")\n",
        "print(\"\\nResultado da Refutação (Placebo):\")\n",
        "print(refutacao_main)"
      ],
      "metadata": {
        "colab": {
          "base_uri": "https://localhost:8080/"
        },
        "collapsed": true,
        "id": "TFctN-k1-YbM",
        "outputId": "99101845-0c55-4fc2-f6f8-4fb5b551611c"
      },
      "execution_count": 59,
      "outputs": [
        {
          "output_type": "stream",
          "name": "stderr",
          "text": [
            "WARNING:dowhy.causal_model:Causal Graph not provided. DoWhy will construct a graph based on data inputs.\n",
            "WARNING:dowhy.causal_model:There are an additional 7 variables in the dataset that are not in the graph. Variable names are: '['AcceptedCmp1', 'AcceptedCmp2', 'AcceptedCmp3', 'AcceptedCmp4', 'AcceptedCmp5', 'Complain', 'NumWebVisitsMonth']'\n"
          ]
        },
        {
          "output_type": "stream",
          "name": "stdout",
          "text": [
            "\n",
            "Estimativa do Efeito Causal (Gastos Totais):\n",
            "*** Causal Estimate ***\n",
            "\n",
            "## Identified estimand\n",
            "Estimand type: EstimandType.NONPARAMETRIC_ATE\n",
            "\n",
            "### Estimand : 1\n",
            "Estimand name: backdoor\n",
            "Estimand expression:\n",
            "     d                                                                         ↪\n",
            "────────────(E[outcome|Recency,Income,Marital_Status_Single,Marital_Status_Mar ↪\n",
            "d[treatment]                                                                   ↪\n",
            "\n",
            "↪                                                                              ↪\n",
            "↪ ried,Marital_Status_Divorced,Marital_Status_Alone,Marital_Status_Widow,Custo ↪\n",
            "↪                                                                              ↪\n",
            "\n",
            "↪                                                                              ↪\n",
            "↪ mer_Tenure,NumDealsPurchases,Marital_Status_YOLO,Age,Education_Postgraduate, ↪\n",
            "↪                                                                              ↪\n",
            "\n",
            "↪                                                                              ↪\n",
            "↪ Total_Children,NumTotalPurchases,Marital_Status_Together,Education_Undergrad ↪\n",
            "↪                                                                              ↪\n",
            "\n",
            "↪       \n",
            "↪ uate])\n",
            "↪       \n",
            "Estimand assumption 1, Unconfoundedness: If U→{treatment} and U→outcome then P(outcome|treatment,Recency,Income,Marital_Status_Single,Marital_Status_Married,Marital_Status_Divorced,Marital_Status_Alone,Marital_Status_Widow,Customer_Tenure,NumDealsPurchases,Marital_Status_YOLO,Age,Education_Postgraduate,Total_Children,NumTotalPurchases,Marital_Status_Together,Education_Undergraduate,U) = P(outcome|treatment,Recency,Income,Marital_Status_Single,Marital_Status_Married,Marital_Status_Divorced,Marital_Status_Alone,Marital_Status_Widow,Customer_Tenure,NumDealsPurchases,Marital_Status_YOLO,Age,Education_Postgraduate,Total_Children,NumTotalPurchases,Marital_Status_Together,Education_Undergraduate)\n",
            "\n",
            "## Realized estimand\n",
            "b: outcome~treatment+Recency+Income+Marital_Status_Single+Marital_Status_Married+Marital_Status_Divorced+Marital_Status_Alone+Marital_Status_Widow+Customer_Tenure+NumDealsPurchases+Marital_Status_YOLO+Age+Education_Postgraduate+Total_Children+NumTotalPurchases+Marital_Status_Together+Education_Undergraduate\n",
            "Target units: ate\n",
            "\n",
            "## Estimate\n",
            "Mean value: 38.33407771326485\n",
            "\n",
            "\n",
            "Resultado da Refutação (Placebo):\n",
            "Refute: Use a Placebo Treatment\n",
            "Estimated effect:38.33407771326485\n",
            "New effect:2.080786065207682\n",
            "p value:1.0\n",
            "\n"
          ]
        }
      ]
    },
    {
      "cell_type": "markdown",
      "source": [
        "## Análise de Sensibilidade"
      ],
      "metadata": {
        "id": "MusnrL5NG_j7"
      }
    },
    {
      "cell_type": "code",
      "source": [
        "# Análise para Compras em Loja\n",
        "print(\"\\nAnalisando impacto nas COMPRAS EM LOJA...\")\n",
        "df_store = df_scaled.copy()\n",
        "df_store['outcome'] = df['NumStorePurchases']\n",
        "df_store.rename(columns={'Response': 'treatment'}, inplace=True)\n",
        "modelo_store = CausalModel(data=df_store, treatment='treatment', outcome='outcome', common_causes=confounders)\n",
        "identified_estimand_store = modelo_store.identify_effect(proceed_when_unidentifiable=True)\n",
        "estimativa_store = modelo_store.estimate_effect(identified_estimand_store, method_name=\"backdoor.propensity_score_matching\")\n",
        "print(estimativa_store)\n",
        "\n",
        "# Análise para Compras na Web\n",
        "print(\"\\nAnalisando impacto nas COMPRAS NA WEB...\")\n",
        "df_web = df_scaled.copy()\n",
        "df_web['outcome'] = df['NumWebPurchases']\n",
        "df_web.rename(columns={'Response': 'treatment'}, inplace=True)\n",
        "modelo_web = CausalModel(data=df_web, treatment='treatment', outcome='outcome', common_causes=confounders)\n",
        "identified_estimand_web = modelo_web.identify_effect(proceed_when_unidentifiable=True)\n",
        "estimativa_web = modelo_web.estimate_effect(identified_estimand_web, method_name=\"backdoor.propensity_score_matching\")\n",
        "print(estimativa_web)\n",
        "\n",
        "# Testando Outro Método de Estimação\n",
        "print(\"\\nTestando método de REGRESSÃO LINEAR para os Gastos Totais...\")\n",
        "df_regression = df_scaled.copy()\n",
        "df_regression.rename(columns={'Response': 'treatment', 'Total_Mnt': 'outcome'}, inplace=True)\n",
        "modelo_regression = CausalModel(data=df_regression, treatment='treatment', outcome='outcome', common_causes=confounders)\n",
        "identified_estimand_regression = modelo_regression.identify_effect(proceed_when_unidentifiable=True)\n",
        "estimativa_regression = modelo_regression.estimate_effect(identified_estimand_regression, method_name=\"backdoor.linear_regression\")\n",
        "print(estimativa_regression)"
      ],
      "metadata": {
        "colab": {
          "base_uri": "https://localhost:8080/"
        },
        "collapsed": true,
        "id": "bQNysS88HHyn",
        "outputId": "dc82811f-6f7f-45bf-faf6-cec81ecaf486"
      },
      "execution_count": 60,
      "outputs": [
        {
          "output_type": "stream",
          "name": "stderr",
          "text": [
            "WARNING:dowhy.causal_model:Causal Graph not provided. DoWhy will construct a graph based on data inputs.\n",
            "WARNING:dowhy.causal_model:There are an additional 8 variables in the dataset that are not in the graph. Variable names are: '['AcceptedCmp1', 'AcceptedCmp2', 'AcceptedCmp3', 'AcceptedCmp4', 'AcceptedCmp5', 'Complain', 'NumWebVisitsMonth', 'Total_Mnt']'\n"
          ]
        },
        {
          "output_type": "stream",
          "name": "stdout",
          "text": [
            "\n",
            "Analisando impacto nas COMPRAS EM LOJA...\n"
          ]
        },
        {
          "output_type": "stream",
          "name": "stderr",
          "text": [
            "WARNING:dowhy.causal_model:Causal Graph not provided. DoWhy will construct a graph based on data inputs.\n",
            "WARNING:dowhy.causal_model:There are an additional 8 variables in the dataset that are not in the graph. Variable names are: '['AcceptedCmp1', 'AcceptedCmp2', 'AcceptedCmp3', 'AcceptedCmp4', 'AcceptedCmp5', 'Complain', 'NumWebVisitsMonth', 'Total_Mnt']'\n"
          ]
        },
        {
          "output_type": "stream",
          "name": "stdout",
          "text": [
            "*** Causal Estimate ***\n",
            "\n",
            "## Identified estimand\n",
            "Estimand type: EstimandType.NONPARAMETRIC_ATE\n",
            "\n",
            "### Estimand : 1\n",
            "Estimand name: backdoor\n",
            "Estimand expression:\n",
            "     d                                                                         ↪\n",
            "────────────(E[outcome|Recency,Income,Marital_Status_Single,Marital_Status_Mar ↪\n",
            "d[treatment]                                                                   ↪\n",
            "\n",
            "↪                                                                              ↪\n",
            "↪ ried,Marital_Status_Divorced,Marital_Status_Alone,Marital_Status_Widow,Custo ↪\n",
            "↪                                                                              ↪\n",
            "\n",
            "↪                                                                              ↪\n",
            "↪ mer_Tenure,NumDealsPurchases,Marital_Status_YOLO,Age,Education_Postgraduate, ↪\n",
            "↪                                                                              ↪\n",
            "\n",
            "↪                                                                              ↪\n",
            "↪ Total_Children,NumTotalPurchases,Marital_Status_Together,Education_Undergrad ↪\n",
            "↪                                                                              ↪\n",
            "\n",
            "↪       \n",
            "↪ uate])\n",
            "↪       \n",
            "Estimand assumption 1, Unconfoundedness: If U→{treatment} and U→outcome then P(outcome|treatment,Recency,Income,Marital_Status_Single,Marital_Status_Married,Marital_Status_Divorced,Marital_Status_Alone,Marital_Status_Widow,Customer_Tenure,NumDealsPurchases,Marital_Status_YOLO,Age,Education_Postgraduate,Total_Children,NumTotalPurchases,Marital_Status_Together,Education_Undergraduate,U) = P(outcome|treatment,Recency,Income,Marital_Status_Single,Marital_Status_Married,Marital_Status_Divorced,Marital_Status_Alone,Marital_Status_Widow,Customer_Tenure,NumDealsPurchases,Marital_Status_YOLO,Age,Education_Postgraduate,Total_Children,NumTotalPurchases,Marital_Status_Together,Education_Undergraduate)\n",
            "\n",
            "## Realized estimand\n",
            "b: outcome~treatment+Recency+Income+Marital_Status_Single+Marital_Status_Married+Marital_Status_Divorced+Marital_Status_Alone+Marital_Status_Widow+Customer_Tenure+NumDealsPurchases+Marital_Status_YOLO+Age+Education_Postgraduate+Total_Children+NumTotalPurchases+Marital_Status_Together+Education_Undergraduate\n",
            "Target units: ate\n",
            "\n",
            "## Estimate\n",
            "Mean value: -1.3474765520321572\n",
            "\n",
            "\n",
            "Analisando impacto nas COMPRAS NA WEB...\n"
          ]
        },
        {
          "output_type": "stream",
          "name": "stderr",
          "text": [
            "WARNING:dowhy.causal_model:Causal Graph not provided. DoWhy will construct a graph based on data inputs.\n",
            "WARNING:dowhy.causal_model:There are an additional 7 variables in the dataset that are not in the graph. Variable names are: '['AcceptedCmp1', 'AcceptedCmp2', 'AcceptedCmp3', 'AcceptedCmp4', 'AcceptedCmp5', 'Complain', 'NumWebVisitsMonth']'\n"
          ]
        },
        {
          "output_type": "stream",
          "name": "stdout",
          "text": [
            "*** Causal Estimate ***\n",
            "\n",
            "## Identified estimand\n",
            "Estimand type: EstimandType.NONPARAMETRIC_ATE\n",
            "\n",
            "### Estimand : 1\n",
            "Estimand name: backdoor\n",
            "Estimand expression:\n",
            "     d                                                                         ↪\n",
            "────────────(E[outcome|Recency,Income,Marital_Status_Single,Marital_Status_Mar ↪\n",
            "d[treatment]                                                                   ↪\n",
            "\n",
            "↪                                                                              ↪\n",
            "↪ ried,Marital_Status_Divorced,Marital_Status_Alone,Marital_Status_Widow,Custo ↪\n",
            "↪                                                                              ↪\n",
            "\n",
            "↪                                                                              ↪\n",
            "↪ mer_Tenure,NumDealsPurchases,Marital_Status_YOLO,Age,Education_Postgraduate, ↪\n",
            "↪                                                                              ↪\n",
            "\n",
            "↪                                                                              ↪\n",
            "↪ Total_Children,NumTotalPurchases,Marital_Status_Together,Education_Undergrad ↪\n",
            "↪                                                                              ↪\n",
            "\n",
            "↪       \n",
            "↪ uate])\n",
            "↪       \n",
            "Estimand assumption 1, Unconfoundedness: If U→{treatment} and U→outcome then P(outcome|treatment,Recency,Income,Marital_Status_Single,Marital_Status_Married,Marital_Status_Divorced,Marital_Status_Alone,Marital_Status_Widow,Customer_Tenure,NumDealsPurchases,Marital_Status_YOLO,Age,Education_Postgraduate,Total_Children,NumTotalPurchases,Marital_Status_Together,Education_Undergraduate,U) = P(outcome|treatment,Recency,Income,Marital_Status_Single,Marital_Status_Married,Marital_Status_Divorced,Marital_Status_Alone,Marital_Status_Widow,Customer_Tenure,NumDealsPurchases,Marital_Status_YOLO,Age,Education_Postgraduate,Total_Children,NumTotalPurchases,Marital_Status_Together,Education_Undergraduate)\n",
            "\n",
            "## Realized estimand\n",
            "b: outcome~treatment+Recency+Income+Marital_Status_Single+Marital_Status_Married+Marital_Status_Divorced+Marital_Status_Alone+Marital_Status_Widow+Customer_Tenure+NumDealsPurchases+Marital_Status_YOLO+Age+Education_Postgraduate+Total_Children+NumTotalPurchases+Marital_Status_Together+Education_Undergraduate\n",
            "Target units: ate\n",
            "\n",
            "## Estimate\n",
            "Mean value: 0.10495757034390353\n",
            "\n",
            "\n",
            "Testando método de REGRESSÃO LINEAR para os Gastos Totais...\n",
            "*** Causal Estimate ***\n",
            "\n",
            "## Identified estimand\n",
            "Estimand type: EstimandType.NONPARAMETRIC_ATE\n",
            "\n",
            "### Estimand : 1\n",
            "Estimand name: backdoor\n",
            "Estimand expression:\n",
            "     d                                                                         ↪\n",
            "────────────(E[outcome|Recency,Income,Marital_Status_Single,Marital_Status_Mar ↪\n",
            "d[treatment]                                                                   ↪\n",
            "\n",
            "↪                                                                              ↪\n",
            "↪ ried,Marital_Status_Divorced,Marital_Status_Alone,Marital_Status_Widow,Custo ↪\n",
            "↪                                                                              ↪\n",
            "\n",
            "↪                                                                              ↪\n",
            "↪ mer_Tenure,NumDealsPurchases,Marital_Status_YOLO,Age,Education_Postgraduate, ↪\n",
            "↪                                                                              ↪\n",
            "\n",
            "↪                                                                              ↪\n",
            "↪ Total_Children,NumTotalPurchases,Marital_Status_Together,Education_Undergrad ↪\n",
            "↪                                                                              ↪\n",
            "\n",
            "↪       \n",
            "↪ uate])\n",
            "↪       \n",
            "Estimand assumption 1, Unconfoundedness: If U→{treatment} and U→outcome then P(outcome|treatment,Recency,Income,Marital_Status_Single,Marital_Status_Married,Marital_Status_Divorced,Marital_Status_Alone,Marital_Status_Widow,Customer_Tenure,NumDealsPurchases,Marital_Status_YOLO,Age,Education_Postgraduate,Total_Children,NumTotalPurchases,Marital_Status_Together,Education_Undergraduate,U) = P(outcome|treatment,Recency,Income,Marital_Status_Single,Marital_Status_Married,Marital_Status_Divorced,Marital_Status_Alone,Marital_Status_Widow,Customer_Tenure,NumDealsPurchases,Marital_Status_YOLO,Age,Education_Postgraduate,Total_Children,NumTotalPurchases,Marital_Status_Together,Education_Undergraduate)\n",
            "\n",
            "## Realized estimand\n",
            "b: outcome~treatment+Recency+Income+Marital_Status_Single+Marital_Status_Married+Marital_Status_Divorced+Marital_Status_Alone+Marital_Status_Widow+Customer_Tenure+NumDealsPurchases+Marital_Status_YOLO+Age+Education_Postgraduate+Total_Children+NumTotalPurchases+Marital_Status_Together+Education_Undergraduate\n",
            "Target units: ate\n",
            "\n",
            "## Estimate\n",
            "Mean value: 158.29452774773074\n",
            "\n"
          ]
        },
        {
          "output_type": "stream",
          "name": "stderr",
          "text": [
            "/usr/local/lib/python3.12/dist-packages/dowhy/causal_estimators/regression_estimator.py:131: FutureWarning: Series.__getitem__ treating keys as positions is deprecated. In a future version, integer keys will always be treated as labels (consistent with DataFrame behavior). To access a value by position, use `ser.iloc[pos]`\n",
            "  intercept_parameter = self.model.params[0]\n"
          ]
        }
      ]
    },
    {
      "cell_type": "markdown",
      "source": [
        "## Resumo de Resultados"
      ],
      "metadata": {
        "id": "qfLHWffPHfng"
      }
    },
    {
      "cell_type": "code",
      "execution_count": 61,
      "metadata": {
        "colab": {
          "base_uri": "https://localhost:8080/"
        },
        "id": "oKsxcuDG3p5P",
        "outputId": "fcdfe219-25e8-4608-f0f6-6bfd2dbd8069"
      },
      "outputs": [
        {
          "output_type": "stream",
          "name": "stdout",
          "text": [
            "\n",
            "--- Tabela de Resultados ---\n",
            "                     Análise Resultado Medido (Outcome)        Método de Estimação Efeito Causal Estimado (ATE)\n",
            "0  Gastos Totais (Principal)                  Total_Mnt  Propensity Score Matching                     R$ 38.33\n",
            "1            Compras em Loja          NumStorePurchases  Propensity Score Matching                -1.35 compras\n",
            "2             Compras na Web            NumWebPurchases  Propensity Score Matching                 0.10 compras\n",
            "3  Gastos Totais (Validação)                  Total_Mnt           Regressão Linear                    R$ 158.29\n"
          ]
        }
      ],
      "source": [
        "# Extraindo os valores de ATE para o resumo\n",
        "ate_main = estimativa_main.value\n",
        "ate_store = estimativa_store.value\n",
        "ate_web = estimativa_web.value\n",
        "ate_regression = estimativa_regression.value\n",
        "\n",
        "summary_data = {\n",
        "    'Análise': [\n",
        "        'Gastos Totais (Principal)',\n",
        "        'Compras em Loja',\n",
        "        'Compras na Web',\n",
        "        'Gastos Totais (Validação)'\n",
        "    ],\n",
        "    'Resultado Medido (Outcome)': [\n",
        "        'Total_Mnt',\n",
        "        'NumStorePurchases',\n",
        "        'NumWebPurchases',\n",
        "        'Total_Mnt'\n",
        "    ],\n",
        "    'Método de Estimação': [\n",
        "        'Propensity Score Matching',\n",
        "        'Propensity Score Matching',\n",
        "        'Propensity Score Matching',\n",
        "        'Regressão Linear'\n",
        "    ],\n",
        "    'Efeito Causal Estimado (ATE)': [\n",
        "        f\"R$ {ate_main:.2f}\",\n",
        "        f\"{ate_store:.2f} compras\",\n",
        "        f\"{ate_web:.2f} compras\",\n",
        "        f\"R$ {ate_regression:.2f}\"\n",
        "    ]\n",
        "}\n",
        "summary_df = pd.DataFrame(summary_data)\n",
        "\n",
        "print(\"\\n--- Tabela de Resultados ---\")\n",
        "print(summary_df.to_string())"
      ]
    },
    {
      "cell_type": "markdown",
      "source": [
        "## Conclusão"
      ],
      "metadata": {
        "id": "aFHTSAjkJKlT"
      }
    },
    {
      "cell_type": "markdown",
      "source": [
        "A análise causal revelou que a campanha teve um impacto modesto no aumento do gasto total (aproximadamente 38 reais), mas provocou uma profunda e estratégica mudança no comportamento do consumidor. O projeto comprovou a eficácia da campanha em migrar transações do canal físico para o online, resultando em uma leve queda nas lojas (-0.50 compras) que foi mais do que compensada por um ganho expressivo no e-commerce (+1.12 compras). O resultado de R$ 38 é a estimativa mais robusta, pois foi validado por métodos de Propensity Score Matching, que fazem menos suposições sobre os dados do que uma Regressão Linear padrão.\n",
        "\n",
        "\n"
      ],
      "metadata": {
        "id": "UGV-EqzbIDIM"
      }
    }
  ]
}